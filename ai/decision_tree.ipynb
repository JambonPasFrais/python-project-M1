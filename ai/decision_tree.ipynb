{
 "cells": [
  {
   "cell_type": "code",
   "execution_count": 25,
   "metadata": {},
   "outputs": [],
   "source": [
    "# Python lib for manipulating data\n",
    "import numpy as np\n",
    "import matplotlib.pyplot as plt\n",
    "import pandas as pd\n",
    "import csv\n",
    "\n",
    "# Lib for Desicion Tree\n",
    "from sklearn.tree import DecisionTreeClassifier\n",
    "from sklearn.tree import export_text\n",
    "from sklearn.tree import plot_tree\n",
    "\n",
    "# Lib for linear regression\n",
    "from sklearn.linear_model import LinearRegression\n"
   ]
  },
  {
   "cell_type": "markdown",
   "metadata": {},
   "source": [
    "# Goal 1\n",
    "The goal of this decision tree is to find the amount of points LeBron James is most likely to be closest of, considering his last results"
   ]
  },
  {
   "cell_type": "code",
   "execution_count": 18,
   "metadata": {},
   "outputs": [
    {
     "name": "stdout",
     "output_type": "stream",
     "text": [
      "   PLAYER_ID SEASON_ID LEAGUE_ID     TEAM_ID TEAM_ABBREVIATION PLAYER_AGE  GP  \\\n",
      "0       2544   2003-04        00  1610612739               CLE       19.0  79   \n",
      "1       2544   2004-05        00  1610612739               CLE       20.0  80   \n",
      "2       2544   2005-06        00  1610612739               CLE       21.0  79   \n",
      "3       2544   2006-07        00  1610612739               CLE       22.0  78   \n",
      "4       2544   2007-08        00  1610612739               CLE       23.0  75   \n",
      "5       2544   2008-09        00  1610612739               CLE       24.0  81   \n",
      "6       2544   2009-10        00  1610612739               CLE       25.0  76   \n",
      "7       2544   2010-11        00  1610612748               MIA       26.0  79   \n",
      "8       2544   2011-12        00  1610612748               MIA       27.0  62   \n",
      "9       2544   2012-13        00  1610612748               MIA       28.0  76   \n",
      "10      2544   2013-14        00  1610612748               MIA       29.0  77   \n",
      "11      2544   2014-15        00  1610612739               CLE       30.0  69   \n",
      "12      2544   2015-16        00  1610612739               CLE       31.0  76   \n",
      "13      2544   2016-17        00  1610612739               CLE       32.0  74   \n",
      "14      2544   2017-18        00  1610612739               CLE       33.0  82   \n",
      "15      2544   2018-19        00  1610612747               LAL       34.0  55   \n",
      "16      2544   2019-20        00  1610612747               LAL       35.0  67   \n",
      "17      2544   2020-21        00  1610612747               LAL       36.0  45   \n",
      "18      2544   2021-22        00  1610612747               LAL       37.0  56   \n",
      "\n",
      "    GS     MIN  FGM  ... OREB DREB  REB  AST  STL BLK  TOV   PF   PTS  \\\n",
      "0   79  3120.0  622  ...   99  333  432  465  130  58  273  149  1654   \n",
      "1   80  3388.0  795  ...  111  477  588  577  177  52  262  146  2175   \n",
      "2   79  3361.0  875  ...   75  481  556  521  123  66  260  181  2478   \n",
      "3   78  3190.0  772  ...   83  443  526  470  125  55  250  171  2132   \n",
      "4   74  3027.0  794  ...  133  459  592  539  138  81  255  165  2250   \n",
      "5   81  3054.0  789  ...  106  507  613  587  137  93  241  139  2304   \n",
      "6   76  2966.0  768  ...   71  483  554  651  125  77  261  119  2258   \n",
      "7   79  3063.0  758  ...   80  510  590  554  124  50  284  163  2111   \n",
      "8   62  2326.0  621  ...   94  398  492  387  115  50  213   96  1683   \n",
      "9   76  2877.0  765  ...   97  513  610  551  129  67  226  110  2036   \n",
      "10  77  2902.0  767  ...   81  452  533  488  121  26  270  126  2089   \n",
      "11  69  2493.0  624  ...   51  365  416  511  109  49  272  135  1743   \n",
      "12  76  2709.0  737  ...  111  454  565  514  104  49  249  143  1920   \n",
      "13  74  2795.0  736  ...   97  542  639  646   92  44  303  134  1954   \n",
      "14  82  3026.0  857  ...   97  612  709  747  116  71  347  136  2251   \n",
      "15  55  1937.0  558  ...   57  408  465  454   72  33  197   94  1505   \n",
      "16  67  2316.0  643  ...   66  459  525  684   78  36  261  118  1698   \n",
      "17  45  1504.0  422  ...   29  317  346  350   48  25  168   70  1126   \n",
      "18  56  2084.0  640  ...   63  396  459  349   73  59  196  121  1695   \n",
      "\n",
      "     PLAYER_NAME  \n",
      "0   LeBron James  \n",
      "1   LeBron James  \n",
      "2   LeBron James  \n",
      "3   LeBron James  \n",
      "4   LeBron James  \n",
      "5   LeBron James  \n",
      "6   LeBron James  \n",
      "7   LeBron James  \n",
      "8   LeBron James  \n",
      "9   LeBron James  \n",
      "10  LeBron James  \n",
      "11  LeBron James  \n",
      "12  LeBron James  \n",
      "13  LeBron James  \n",
      "14  LeBron James  \n",
      "15  LeBron James  \n",
      "16  LeBron James  \n",
      "17  LeBron James  \n",
      "18  LeBron James  \n",
      "\n",
      "[19 rows x 28 columns]\n"
     ]
    }
   ],
   "source": [
    "# Open CSV file for a player\n",
    "player = \"LeBron James\"\n",
    "\n",
    "rows_list = []\n",
    "with open(\"../Scrapping/players_stats/\" + player + \".csv\", mode=\"r\") as infile:\n",
    "    reader = csv.reader(infile)\n",
    "    for rows in reader:\n",
    "        rows_list.append(rows)\n",
    "\n",
    "# separate header from data\n",
    "header = rows_list[0]\n",
    "data = rows_list[1:]\n",
    "data = data[:-1] # we remove the last row because it is for the current season and it's not relevant\n",
    "\n",
    "# create a df with header and data\n",
    "df = pd.DataFrame(data, columns=header)\n",
    "print(df)"
   ]
  },
  {
   "cell_type": "code",
   "execution_count": 26,
   "metadata": {},
   "outputs": [],
   "source": [
    "# Sepacialize data for the AI\n",
    "data = df[['OREB', 'DREB', 'FTM', 'FTA', 'PF', 'FGM', 'FGA']]\n",
    "target = df[['PTS']]"
   ]
  },
  {
   "cell_type": "code",
   "execution_count": 27,
   "metadata": {},
   "outputs": [],
   "source": [
    "# We create the model\n",
    "model_tree = DecisionTreeClassifier()"
   ]
  },
  {
   "cell_type": "code",
   "execution_count": 28,
   "metadata": {},
   "outputs": [
    {
     "data": {
      "text/html": [
       "<style>#sk-container-id-3 {color: black;background-color: white;}#sk-container-id-3 pre{padding: 0;}#sk-container-id-3 div.sk-toggleable {background-color: white;}#sk-container-id-3 label.sk-toggleable__label {cursor: pointer;display: block;width: 100%;margin-bottom: 0;padding: 0.3em;box-sizing: border-box;text-align: center;}#sk-container-id-3 label.sk-toggleable__label-arrow:before {content: \"▸\";float: left;margin-right: 0.25em;color: #696969;}#sk-container-id-3 label.sk-toggleable__label-arrow:hover:before {color: black;}#sk-container-id-3 div.sk-estimator:hover label.sk-toggleable__label-arrow:before {color: black;}#sk-container-id-3 div.sk-toggleable__content {max-height: 0;max-width: 0;overflow: hidden;text-align: left;background-color: #f0f8ff;}#sk-container-id-3 div.sk-toggleable__content pre {margin: 0.2em;color: black;border-radius: 0.25em;background-color: #f0f8ff;}#sk-container-id-3 input.sk-toggleable__control:checked~div.sk-toggleable__content {max-height: 200px;max-width: 100%;overflow: auto;}#sk-container-id-3 input.sk-toggleable__control:checked~label.sk-toggleable__label-arrow:before {content: \"▾\";}#sk-container-id-3 div.sk-estimator input.sk-toggleable__control:checked~label.sk-toggleable__label {background-color: #d4ebff;}#sk-container-id-3 div.sk-label input.sk-toggleable__control:checked~label.sk-toggleable__label {background-color: #d4ebff;}#sk-container-id-3 input.sk-hidden--visually {border: 0;clip: rect(1px 1px 1px 1px);clip: rect(1px, 1px, 1px, 1px);height: 1px;margin: -1px;overflow: hidden;padding: 0;position: absolute;width: 1px;}#sk-container-id-3 div.sk-estimator {font-family: monospace;background-color: #f0f8ff;border: 1px dotted black;border-radius: 0.25em;box-sizing: border-box;margin-bottom: 0.5em;}#sk-container-id-3 div.sk-estimator:hover {background-color: #d4ebff;}#sk-container-id-3 div.sk-parallel-item::after {content: \"\";width: 100%;border-bottom: 1px solid gray;flex-grow: 1;}#sk-container-id-3 div.sk-label:hover label.sk-toggleable__label {background-color: #d4ebff;}#sk-container-id-3 div.sk-serial::before {content: \"\";position: absolute;border-left: 1px solid gray;box-sizing: border-box;top: 0;bottom: 0;left: 50%;z-index: 0;}#sk-container-id-3 div.sk-serial {display: flex;flex-direction: column;align-items: center;background-color: white;padding-right: 0.2em;padding-left: 0.2em;position: relative;}#sk-container-id-3 div.sk-item {position: relative;z-index: 1;}#sk-container-id-3 div.sk-parallel {display: flex;align-items: stretch;justify-content: center;background-color: white;position: relative;}#sk-container-id-3 div.sk-item::before, #sk-container-id-3 div.sk-parallel-item::before {content: \"\";position: absolute;border-left: 1px solid gray;box-sizing: border-box;top: 0;bottom: 0;left: 50%;z-index: -1;}#sk-container-id-3 div.sk-parallel-item {display: flex;flex-direction: column;z-index: 1;position: relative;background-color: white;}#sk-container-id-3 div.sk-parallel-item:first-child::after {align-self: flex-end;width: 50%;}#sk-container-id-3 div.sk-parallel-item:last-child::after {align-self: flex-start;width: 50%;}#sk-container-id-3 div.sk-parallel-item:only-child::after {width: 0;}#sk-container-id-3 div.sk-dashed-wrapped {border: 1px dashed gray;margin: 0 0.4em 0.5em 0.4em;box-sizing: border-box;padding-bottom: 0.4em;background-color: white;}#sk-container-id-3 div.sk-label label {font-family: monospace;font-weight: bold;display: inline-block;line-height: 1.2em;}#sk-container-id-3 div.sk-label-container {text-align: center;}#sk-container-id-3 div.sk-container {/* jupyter's `normalize.less` sets `[hidden] { display: none; }` but bootstrap.min.css set `[hidden] { display: none !important; }` so we also need the `!important` here to be able to override the default hidden behavior on the sphinx rendered scikit-learn.org. See: https://github.com/scikit-learn/scikit-learn/issues/21755 */display: inline-block !important;position: relative;}#sk-container-id-3 div.sk-text-repr-fallback {display: none;}</style><div id=\"sk-container-id-3\" class=\"sk-top-container\"><div class=\"sk-text-repr-fallback\"><pre>DecisionTreeClassifier()</pre><b>In a Jupyter environment, please rerun this cell to show the HTML representation or trust the notebook. <br />On GitHub, the HTML representation is unable to render, please try loading this page with nbviewer.org.</b></div><div class=\"sk-container\" hidden><div class=\"sk-item\"><div class=\"sk-estimator sk-toggleable\"><input class=\"sk-toggleable__control sk-hidden--visually\" id=\"sk-estimator-id-3\" type=\"checkbox\" checked><label for=\"sk-estimator-id-3\" class=\"sk-toggleable__label sk-toggleable__label-arrow\">DecisionTreeClassifier</label><div class=\"sk-toggleable__content\"><pre>DecisionTreeClassifier()</pre></div></div></div></div></div>"
      ],
      "text/plain": [
       "DecisionTreeClassifier()"
      ]
     },
     "execution_count": 28,
     "metadata": {},
     "output_type": "execute_result"
    }
   ],
   "source": [
    "# We train the model \n",
    "model_tree.fit(data, target)"
   ]
  },
  {
   "cell_type": "code",
   "execution_count": 29,
   "metadata": {},
   "outputs": [
    {
     "name": "stdout",
     "output_type": "stream",
     "text": [
      "|--- PF <= 82.00\n",
      "|   |--- class: 1126\n",
      "|--- PF >  82.00\n",
      "|   |--- FGM <= 589.50\n",
      "|   |   |--- class: 1505\n",
      "|   |--- FGM >  589.50\n",
      "|   |   |--- DREB <= 349.00\n",
      "|   |   |   |--- class: 1654\n",
      "|   |   |--- DREB >  349.00\n",
      "|   |   |   |--- PF <= 103.00\n",
      "|   |   |   |   |--- class: 1683\n",
      "|   |   |   |--- PF >  103.00\n",
      "|   |   |   |   |--- PF <= 114.00\n",
      "|   |   |   |   |   |--- class: 2036\n",
      "|   |   |   |   |--- PF >  114.00\n",
      "|   |   |   |   |   |--- PF <= 118.50\n",
      "|   |   |   |   |   |   |--- class: 1698\n",
      "|   |   |   |   |   |--- PF >  118.50\n",
      "|   |   |   |   |   |   |--- DREB <= 380.50\n",
      "|   |   |   |   |   |   |   |--- class: 1743\n",
      "|   |   |   |   |   |   |--- DREB >  380.50\n",
      "|   |   |   |   |   |   |   |--- PF <= 120.00\n",
      "|   |   |   |   |   |   |   |   |--- class: 2258\n",
      "|   |   |   |   |   |   |   |--- PF >  120.00\n",
      "|   |   |   |   |   |   |   |   |--- DREB <= 419.50\n",
      "|   |   |   |   |   |   |   |   |   |--- class: 1695\n",
      "|   |   |   |   |   |   |   |   |--- DREB >  419.50\n",
      "|   |   |   |   |   |   |   |   |   |--- OREB <= 77.50\n",
      "|   |   |   |   |   |   |   |   |   |   |--- class: 2478\n",
      "|   |   |   |   |   |   |   |   |   |--- OREB >  77.50\n",
      "|   |   |   |   |   |   |   |   |   |   |--- DREB <= 447.50\n",
      "|   |   |   |   |   |   |   |   |   |   |   |--- class: 2132\n",
      "|   |   |   |   |   |   |   |   |   |   |--- DREB >  447.50\n",
      "|   |   |   |   |   |   |   |   |   |   |   |--- truncated branch of depth 8\n",
      "\n"
     ]
    }
   ],
   "source": [
    "# prinnting text representation\n",
    "text_reprensation = export_text(model_tree, feature_names=list(data))\n",
    "print(text_reprensation)"
   ]
  },
  {
   "cell_type": "code",
   "execution_count": 30,
   "metadata": {},
   "outputs": [
    {
     "name": "stdout",
     "output_type": "stream",
     "text": [
      "['1954']\n"
     ]
    },
    {
     "name": "stderr",
     "output_type": "stream",
     "text": [
      "d:\\AI_Course\\lib\\site-packages\\sklearn\\base.py:450: UserWarning: X does not have valid feature names, but DecisionTreeClassifier was fitted with feature names\n",
      "  warnings.warn(\n"
     ]
    }
   ],
   "source": [
    "# predict with new data that are not in the dataset\n",
    "new_data = [[125, 500, 400, 600, 150, 700, 1200]]\n",
    "prediction = model_tree.predict(new_data)\n",
    "print(prediction)"
   ]
  },
  {
   "cell_type": "markdown",
   "metadata": {},
   "source": [
   ]
  },
  {
   "cell_type": "code",
   "execution_count": null,
   "metadata": {},
   "outputs": [],
   "source": []
  }
 ],
 "metadata": {
  "kernelspec": {
   "display_name": "Python 3.9.13 ('base')",
   "language": "python",
   "name": "python3"
  },
  "language_info": {
   "codemirror_mode": {
    "name": "ipython",
    "version": 3
   },
   "file_extension": ".py",
   "mimetype": "text/x-python",
   "name": "python",
   "nbconvert_exporter": "python",
   "pygments_lexer": "ipython3",
   "version": "3.9.13"
  },
  "orig_nbformat": 4,
  "vscode": {
   "interpreter": {
    "hash": "b689ae359b4566e349b1c0baa19ca6f04ebe22196eac7978706cc119d1d28a92"
   }
  }
 },
 "nbformat": 4,
 "nbformat_minor": 2
}
